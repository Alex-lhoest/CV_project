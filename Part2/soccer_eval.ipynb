{
 "cells": [
  {
   "cell_type": "code",
   "execution_count": 4,
   "metadata": {},
   "outputs": [],
   "source": [
    "%matplotlib inline\n",
    "\n",
    "import numpy as np                     # Numerical algorithms on arrays\n",
    "import cv2                             # OpenCV\n",
    "from matplotlib import pyplot as plt   # Plot library\n",
    "import matplotlib.cm as cm             # Image color map \n",
    "import tools                           # A few helpers to plot multiple images\n",
    "from PIL import Image                  # For rescaling images\n",
    "from ipywidgets import interact, fixed # Interact with images\n",
    "import pandas as pd"
   ]
  },
  {
   "cell_type": "code",
   "execution_count": 5,
   "metadata": {},
   "outputs": [],
   "source": [
    "img_link = 'images/soccer_1.png'\n",
    "\n",
    "annotation_link = 'annotations/soccer_1.txt'"
   ]
  },
  {
   "cell_type": "code",
   "execution_count": 6,
   "metadata": {},
   "outputs": [
    {
     "name": "stdout",
     "output_type": "stream",
     "text": [
      "[1183, 1180, 618, 3, 2, 0] [556, 556, 586, 579, 547, 529] 720\n"
     ]
    }
   ],
   "source": [
    "data = pd.read_csv(annotation_link, header=None)\n",
    "\n",
    "x1_annot = []\n",
    "y1_annot = []\n",
    "x2_annot = []\n",
    "y2_annot = []\n",
    "\n",
    "img = cv2.imread(img_link, cv2.IMREAD_GRAYSCALE)\n",
    "height, width = img.shape[:2]\n",
    "\n",
    "H=height\n",
    "\n",
    "for _, row in data.iterrows():\n",
    "    x1_annot.append(int(row[0]))\n",
    "    y1_annot.append(int(row[1]))\n",
    "    x2_annot.append(int(row[2]))\n",
    "    y2_annot.append(int(row[3]))\n",
    "\n",
    "print(x1_annot,y1_annot,H)\n",
    "    \n",
    "number_lines = len(row)"
   ]
  },
  {
   "cell_type": "code",
   "execution_count": 7,
   "metadata": {},
   "outputs": [
    {
     "data": {
      "image/png": "[encoded data removed]",
      "text/plain": [
       "<Figure size 1440x720 with 1 Axes>"
      ]
     },
     "metadata": {},
     "output_type": "display_data"
    }
   ],
   "source": [
    "# for soccer classification\n",
    "\n",
    "img = cv2.imread(img_link, cv2.IMREAD_GRAYSCALE)\n",
    "\n",
    "iGausKernelSize = 7\n",
    "imgFilt = cv2.GaussianBlur(img, (iGausKernelSize, iGausKernelSize), 0)\n",
    "_, imgThres = cv2.threshold(imgFilt, 0, 255, cv2.THRESH_TOZERO+cv2.THRESH_OTSU)\n",
    "iReducFactor = 2\n",
    "iStart = iReducFactor // 2\n",
    "imgReduc = imgThres[iStart::iReducFactor, iStart::iReducFactor]\n",
    "\n",
    "med = np.median( imgReduc)\n",
    "    \n",
    "# apply automatic Canny edge detection using the computed median\n",
    "sigma = 0.3\n",
    "loThreshold = int( max( 0, (1.0 - sigma) * med))\n",
    "hiThreshold = int( min( 255, (1.0 + sigma) * med))\n",
    "\n",
    "edges_canny = cv2.Canny( imgReduc, loThreshold, hiThreshold, apertureSize=3, L2gradient=False)\n",
    "edges = cv2.dilate(edges_canny, np.ones((2,2), dtype=np.uint8))\n",
    "\n",
    "Max_gap = 2\n",
    "Min_length = 75\n",
    "lines = cv2.HoughLinesP(edges,1,np.pi/180,100,np.array([]),Min_length,Max_gap)\n",
    "for l in lines:\n",
    "    for x1,y1,x2,y2 in l:\n",
    "        cv2.line(img,(2*x1,2*y1),(2*x2,2*y2),(0,255,0),3)\n",
    "height, width = img.shape[:2]\n",
    "mat = np.zeros((height,width))\n",
    "\n",
    "lines = cv2.HoughLinesP(edges,1,np.pi/180,100,np.array([]),Min_length,Max_gap)\n",
    "for l in lines:\n",
    "    for x1,y1,x2,y2 in l:\n",
    "        cv2.line(mat,(2*x1,2*y1),(2*x2,2*y2),(255,255,255),3) \n",
    "\n",
    "iReducFactor = 2\n",
    "iStart = iReducFactor // 2\n",
    "blackReduc = mat[iStart::iReducFactor, iStart::iReducFactor]\n",
    "blackReduc = blackReduc.astype('uint8')\n",
    "\n",
    "img_and = cv2.bitwise_and(blackReduc, edges)\n",
    "\n",
    "img_and_canny = cv2.bitwise_and(blackReduc, edges_canny)\n",
    "\n",
    "edges_negative_undilated = edges_canny - img_and_canny\n",
    "\n",
    "edges_negative = cv2.dilate(edges_canny, np.ones((2,2), dtype=np.uint8))\n",
    "\n",
    "dilated = cv2.dilate(img_and, np.ones((1,1), dtype=np.uint8))\n",
    "colored = np.zeros((dilated.shape[0], dilated.shape[1], 3), dtype='uint8')\n",
    "\n",
    "colored[:,:,0] = edges\n",
    "colored[:,:,0] -= dilated\n",
    "colored[:,:,1] = dilated\n",
    "\n",
    "tools.multiPlot(1, 1, (colored,), ('Classification',), cmap_tuple=(cm.gray,))"
   ]
  },
  {
   "cell_type": "code",
   "execution_count": 9,
   "metadata": {},
   "outputs": [
    {
     "name": "stdout",
     "output_type": "stream",
     "text": [
      "Pourcent of true positive pixels =  4.769902586496473 %\n",
      "Pourcent of false positive pixels =  95.23009741350353 %\n",
      "Pourcent of true negative pixels =  98.94728415322419 %\n",
      "Pourcent of false negative pixels =  1.0527158467758075 %\n",
      "0 over 16 lines have been correctly detected\n"
     ]
    },
    {
     "data": {
      "image/png": "[encoded data removed]",
      "text/plain": [
       "<Figure size 1440x720 with 2 Axes>"
      ]
     },
     "metadata": {},
     "output_type": "display_data"
    }
   ],
   "source": [
    "#height, width = img.shape[:2]\n",
    "mat_annotations1 = np.zeros((height,width))\n",
    "\n",
    "img_color = cv2.imread(img_link, cv2.IMREAD_COLOR)\n",
    "\n",
    "b,g,r = cv2.split(img_color)\n",
    "img_color = cv2.merge( [r,g,b])\n",
    "\n",
    "\n",
    "#lines_annotations = lines#output of the annotations (expect a vector containing x1,y1,x2,y2 the coordinates of the vector ends)\n",
    "for i in range(len(x1_annot)):\n",
    "    cv2.line(mat_annotations1,(int(x1_annot[i]),H-int(y1_annot[i])),(int(x2_annot[i]),H-int(y2_annot[i])),(255, 255, 255),2) #peut-etre changer le 2*\n",
    "    #cv2.line(img_color,(2*x1,2*y1),(2*x2,2*y2),(255,0,0),3) \n",
    "\n",
    "        \n",
    "#Comparison between adaptive threshold and annotations\n",
    "        \n",
    "iReducFactor = 2\n",
    "iStart = iReducFactor // 2\n",
    "blackReduc_annotations = mat_annotations1[iStart::iReducFactor, iStart::iReducFactor]\n",
    "\n",
    "blackReduc_annotations = blackReduc_annotations.astype('uint8') #photo noire contenant toutes les droites tracees dans les annotations\n",
    "\n",
    "blackReduc_annotations_invert = (255-blackReduc_annotations)\n",
    "\n",
    "true_positive = cv2.bitwise_and(img_and, blackReduc_annotations)\n",
    "\n",
    "false_positive = cv2.bitwise_and(img_and, blackReduc_annotations_invert)\n",
    "\n",
    "true_negative = cv2.bitwise_and(edges_negative, blackReduc_annotations_invert)\n",
    "\n",
    "false_negative = cv2.bitwise_and(edges_negative, blackReduc_annotations)\n",
    "\n",
    "num_pixels_detected_pos = cv2.countNonZero(img_and)\n",
    "\n",
    "num_pixels_detected_neg = cv2.countNonZero(edges_negative)\n",
    "\n",
    "num_true_positive = cv2.countNonZero(true_positive)\n",
    "\n",
    "num_false_positive = cv2.countNonZero(false_positive)\n",
    "\n",
    "num_true_negative = cv2.countNonZero(true_negative)\n",
    "\n",
    "num_false_negative = cv2.countNonZero(false_negative)\n",
    "\n",
    "pourcent_true_pos = num_true_positive/num_pixels_detected_pos\n",
    "\n",
    "pourcent_false_pos = num_false_positive/num_pixels_detected_pos\n",
    "\n",
    "pourcent_true_neg = num_true_negative/num_pixels_detected_neg\n",
    "\n",
    "pourcent_false_neg = num_false_negative/num_pixels_detected_neg\n",
    "\n",
    "print(\"Pourcent of true positive pixels = \", pourcent_true_pos*100, \"%\")\n",
    "print(\"Pourcent of false positive pixels = \", pourcent_false_pos*100, \"%\")\n",
    "\n",
    "print(\"Pourcent of true negative pixels = \", pourcent_true_neg*100, \"%\")\n",
    "print(\"Pourcent of false negative pixels = \", pourcent_false_neg*100, \"%\")\n",
    "\n",
    "#Comparison between Hough and annotations\n",
    "\n",
    "good_lines_detected = 0\n",
    "i=0\n",
    "for ll in lines :\n",
    "    mat = np.zeros((height,width))\n",
    "    for x11,y11,x22,y22 in ll: \n",
    "        cv2.line(mat,(2*x11,2*y11),(2*x22,2*y22),(255, 255, 255),3)\n",
    "        pixels_Hough=cv2.countNonZero(mat)\n",
    "        num_pixels_in_common = cv2.countNonZero(cv2.bitwise_and(mat_annotations1, mat))\n",
    "        #if num_pixels_in_common > 2000 :\n",
    "        #    print(num_pixels_in_common,i)\n",
    "        #    i=i+1\n",
    "        if (num_pixels_in_common > 0.5*pixels_Hough): # or num_pixels_in_common > 0.5*pixels_annotations): \n",
    "            good_lines_detected = good_lines_detected + 1\n",
    "\n",
    "print(good_lines_detected, \"over\", len(lines), \"lines have been correctly detected\")   \n",
    "\n",
    "tools.multiPlot(1, 2, (img_and,mat_annotations1),\n",
    "                        ('Test annotations','test'),\n",
    "                        cmap_tuple=(cm.gray,cm.gray))"
   ]
  },
  {
   "cell_type": "code",
   "execution_count": null,
   "metadata": {},
   "outputs": [],
   "source": []
  }
 ],
 "metadata": {
  "kernelspec": {
   "display_name": "Python 3",
   "language": "python",
   "name": "python3"
  },
  "language_info": {
   "codemirror_mode": {
    "name": "ipython",
    "version": 3
   },
   "file_extension": ".py",
   "mimetype": "text/x-python",
   "name": "python",
   "nbconvert_exporter": "python",
   "pygments_lexer": "ipython3",
   "version": "3.6.5"
  }
 },
 "nbformat": 4,
 "nbformat_minor": 2
}
