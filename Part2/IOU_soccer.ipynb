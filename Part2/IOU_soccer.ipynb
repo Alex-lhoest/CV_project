{
 "cells": [
  {
   "cell_type": "code",
   "execution_count": 20,
   "metadata": {},
   "outputs": [
    {
     "name": "stdout",
     "output_type": "stream",
     "text": [
      "min x, min y, max x max y : 1886 460 772 454\n",
      "y\n",
      "min x, min y, max x max y : 1 460 765 704\n",
      "186416\n",
      "0.941304786911735\n"
     ]
    }
   ],
   "source": [
    "import sys\n",
    "import os \n",
    "import numpy as np\n",
    "\n",
    "\n",
    "list_IOU = list()\n",
    "for file in os.listdir(\"positions_soccer\"):\n",
    "    fp1 = open(\"positions_soccer/{}\".format(file), \"r\")\n",
    "    fp2 = open(\"coord_test/{}\".format(file), \"r\")\n",
    "    lines1 = fp1.readlines()\n",
    "    nb_lines1 = np.shape(lines1)\n",
    "    lines2 = fp2.readlines()\n",
    "    nb_lines2 = np.shape(lines2)\n",
    "    \n",
    "    nb_elps1 = nb_lines1[0]\n",
    "    nb_elps2 = nb_lines2[0]\n",
    "    \n",
    "    for i in range(nb_elps1):\n",
    "        line1= lines1[i].split(' ')\n",
    "        if line1 == ['\\n']:\n",
    "            break\n",
    "        #print(line1)\n",
    "        xmin1 = int(line1[0])\n",
    "        ymin1= int(line1[1])\n",
    "        xmax1 = int(line1[2])\n",
    "        ymax1 = int(line1[3])\n",
    "        \n",
    "        length1 = (xmax1 -xmin1)\n",
    "        height1 = (ymax1 - ymin1)\n",
    "        area1 = length1*height1\n",
    "        intersection = 0\n",
    "        \n",
    "        IOUs = list()\n",
    "        for  j in range(nb_elps2):\n",
    "            line2= lines2[j].split(' ')\n",
    "            xmin2 = int(line2[0])\n",
    "            ymin2 = int(line2[1])\n",
    "            xmax2 = int(line2[2])\n",
    "            ymax2 = int(line2[3])\n",
    "        \n",
    "            length2 = (xmax1 -xmin1)\n",
    "            height2 = (ymax1 - ymin1)\n",
    "            area2 = length2 * height2\n",
    "            interminx = max(xmin1, xmin2)\n",
    "            intermaxx = min(xmax1, xmax2)\n",
    "            interminy = max(ymin1, ymin2)\n",
    "            intermaxy = min(ymax1, ymax2)\n",
    "            print(\"min x, min y, max x max y : {} {} {} {}\".format(interminx, interminy, intermaxx, intermaxy))\n",
    "            \n",
    "            if (intermaxx - interminx) > 0 and (intermaxy - interminy) > 0:\n",
    "                intersection = (intermaxx - interminx) * (intermaxy - interminy)\n",
    "                print(intersection)\n",
    "            else :\n",
    "                intersection = 0\n",
    "                print(\"y\")\n",
    "            \n",
    "            union = area1 + area2 - intersection\n",
    "            IOUs.append(intersection / union)\n",
    "        IOU = max(IOUs)\n",
    "        print(IOU)\n",
    "        list_IOU.append(IOU)\n",
    "            \n",
    "            "
   ]
  },
  {
   "cell_type": "code",
   "execution_count": 19,
   "metadata": {},
   "outputs": [
    {
     "data": {
      "text/plain": [
       "[0.0, 0.0]"
      ]
     },
     "execution_count": 19,
     "metadata": {},
     "output_type": "execute_result"
    }
   ],
   "source": [
    "IOUs"
   ]
  },
  {
   "cell_type": "code",
   "execution_count": null,
   "metadata": {},
   "outputs": [],
   "source": []
  }
 ],
 "metadata": {
  "kernelspec": {
   "display_name": "Python 3",
   "language": "python",
   "name": "python3"
  },
  "language_info": {
   "codemirror_mode": {
    "name": "ipython",
    "version": 3
   },
   "file_extension": ".py",
   "mimetype": "text/x-python",
   "name": "python",
   "nbconvert_exporter": "python",
   "pygments_lexer": "ipython3",
   "version": "3.6.9"
  }
 },
 "nbformat": 4,
 "nbformat_minor": 2
}
