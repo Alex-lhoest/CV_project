{
 "cells": [
  {
   "cell_type": "code",
   "execution_count": 28,
   "metadata": {},
   "outputs": [],
   "source": [
    "import numpy as np\n",
    "import math\n",
    "import cv2\n",
    "from matplotlib import pyplot as plt\n",
    "import matplotlib.cm as cm\n",
    "import tools\n",
    "import pandas as pd\n",
    "import sys\n",
    "import os"
   ]
  },
  {
   "cell_type": "code",
   "execution_count": 31,
   "metadata": {
    "scrolled": true
   },
   "outputs": [
    {
     "name": "stdout",
     "output_type": "stream",
     "text": [
      "elps_eye_1102.png\n"
     ]
    },
    {
     "ename": "SystemExit",
     "evalue": "",
     "output_type": "error",
     "traceback": [
      "An exception has occurred, use %tb to see the full traceback.\n",
      "\u001b[0;31mSystemExit\u001b[0m\n"
     ]
    }
   ],
   "source": [
    "##Paths of image and corresponding annotation files:\n",
    "image_file_path = '../images/'\n",
    "annotation_file_path = '../annotations/'\n",
    "\n",
    "##Destination file path of masks:\n",
    "mask_file_path = '../elps_masks/'\n",
    "\n",
    "##Create file for the masks if it does not already exists\n",
    "if not os.path.isdir(mask_path):\n",
    "        os.makedirs(mask_path)\n",
    "\n",
    "##Loop over all Eye Ellipse images and process them:\n",
    "for img_name in os.listdir(image_file_path):\n",
    "    if img_name[0:8] == 'elps_eye':\n",
    "        image_path = image_file_path + img_name\n",
    "        annotation_path = annotation_file_path + img_name[:len(img_name)-3] + 'txt'\n",
    "        mask_path = mask_file_path + 'mask' + img_name[4:]\n",
    "        \n",
    "        ##Import image and characteristics:\n",
    "        img = cv2.imread(image_path, cv2.IMREAD_GRAYSCALE)\n",
    "        height, width = img.shape\n",
    "        \n",
    "        ## Create the future mask image as a plain black image:\n",
    "        mask = np.zeros((height,width,3), np.uint8)\n",
    "        mask[:,:] = (255, 255, 255)\n",
    "        \n",
    "        ## Import the coordinates of all points of the ellipse and process them:\n",
    "        data = pd.read_csv(annotation_path, header=None)\n",
    "        nb_coord = data.shape[1]\n",
    "        coord_list = []\n",
    "        \n",
    "        for i in range(nb_coord):\n",
    "            coord_list.append(data[i][0])\n",
    "\n",
    "        coord_list = coord_list[: -2]\n",
    "        coord_array = np.asarray(coord_list)\n",
    "        points = coord_array.reshape([-1, 2])\n",
    "        \n",
    "        ## Cast coordinates to 32 bits floats (64 bits floats not accepted by cv2.fitEllipse):\n",
    "        pts = points.astype(np.float32)\n",
    "\n",
    "        ##Output of fitEllipse = rotated rectangle : 'rect' = [(xc, yc), (a, b), theta]:\n",
    "        rect = cv2.fitEllipse(pts)\n",
    "        xc = rect[0][0]\n",
    "        yc = rect[0][1]\n",
    "        a = rect[1][0]\n",
    "        b = rect[1][1]\n",
    "        theta = rect[2]\n",
    "        \n",
    "        ## Conversion from Cytomine coordinates system to opencv coordinates system:\n",
    "        liste = [[xc, yc], [a, b], theta]\n",
    "        liste[0][1] = height - liste[0][1]\n",
    "        tup1 = (liste[0][0], liste[0][1])\n",
    "        tup2 = (liste[1][0], liste[1][1])\n",
    "        rect2 = (tup1, tup2, -liste[2])\n",
    "\n",
    "        ## Black color:\n",
    "        color = (0, 0, 0)\n",
    "        \n",
    "        ## Draw the ellipse on original and on mask image:\n",
    "        cv2.ellipse(img, rect2, color) \n",
    "        cv2.ellipse(mask, rect2, color, thickness = -1) \n",
    "        \n",
    "        ## Draw white mask on black image:\n",
    "        for y in range(width):\n",
    "            for x in range(height): \n",
    "                if mask[x][y][0] == 255:\n",
    "                    mask[x][y][0] = 0\n",
    "                    mask[x][y][1] = 0\n",
    "                    mask[x][y][2] = 0\n",
    "                else:\n",
    "                    mask[x][y][0] = 255\n",
    "                    mask[x][y][1] = 255\n",
    "                    mask[x][y][2] = 255\n",
    "        \n",
    "        ##Save the mask image:\n",
    "        cv2.imwrite(mask_path, mask)\n",
    "    \n",
    "print(\"All mask images created\")"
   ]
  },
  {
   "cell_type": "code",
   "execution_count": null,
   "metadata": {},
   "outputs": [],
   "source": []
  },
  {
   "cell_type": "code",
   "execution_count": null,
   "metadata": {},
   "outputs": [],
   "source": []
  }
 ],
 "metadata": {
  "kernelspec": {
   "display_name": "Python 3",
   "language": "python",
   "name": "python3"
  },
  "language_info": {
   "codemirror_mode": {
    "name": "ipython",
    "version": 3
   },
   "file_extension": ".py",
   "mimetype": "text/x-python",
   "name": "python",
   "nbconvert_exporter": "python",
   "pygments_lexer": "ipython3",
   "version": "3.6.9"
  }
 },
 "nbformat": 4,
 "nbformat_minor": 2
}
