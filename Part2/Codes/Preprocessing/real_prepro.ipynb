{
 "cells": [
  {
   "cell_type": "code",
   "execution_count": 17,
   "metadata": {},
   "outputs": [],
   "source": [
    "import numpy as np\n",
    "import math\n",
    "import cv2\n",
    "from matplotlib import pyplot as plt\n",
    "import matplotlib.cm as cm\n",
    "import tools\n",
    "import pandas as pd\n",
    "import sys\n",
    "import os\n",
    "\n",
    "\n",
    "from ipywidgets import interact, fixed\n",
    "\n",
    "def normalize_image(img):\n",
    "    img = img.astype(float)\n",
    "    return ( img - np.min(img)) / ( np.max(img) - np.min(img))\n",
    "\n",
    "def normL1(imgX, imgY):\n",
    "    return np.abs(imgX) + np.abs(imgY)\n",
    "\n",
    "def normL2(imgX, imgY):\n",
    "    return np.sqrt( imgX * imgX + imgY * imgY)"
   ]
  },
  {
   "cell_type": "code",
   "execution_count": 18,
   "metadata": {},
   "outputs": [],
   "source": [
    "def apply_contrast(input_img, contrast = 0):\n",
    "#source : https://stackoverflow.com/questions/39308030/how-do-i-increase-the-contrast-of-an-image-in-python-opencv\n",
    "    buf = input_img.copy()\n",
    "    if contrast != 0:\n",
    "        f = 131*(contrast + 127)/(127*(131-contrast))\n",
    "        alpha_c = f\n",
    "        gamma_c = 127*(1-f)\n",
    "        \n",
    "        buf = cv2.addWeighted(buf, alpha_c, buf, 0, gamma_c)\n",
    "\n",
    "    return buf\n",
    "\n",
    "\n",
    "def local_normalize_image(img, ksize=30):\n",
    "    # Compute the local background and foreground for the image\n",
    "    kernel = np.ones( ( ksize, ksize), np.uint8)\n",
    "    \n",
    "    if ksize % 2 == 0:\n",
    "        ksize -= 1\n",
    "\n",
    "    img_erd = cv2.GaussianBlur( cv2.erode( img, kernel, iterations = 1).astype( float), (ksize, ksize), 0)\n",
    "    img_dlt = cv2.GaussianBlur( cv2.dilate( img, kernel, iterations = 1).astype( float), (ksize, ksize), 0)\n",
    "    \n",
    "    return tools.saturate_cast_uint8( ( img - img_erd) * 255.0 / ( img_dlt - img_erd + 1))"
   ]
  },
  {
   "cell_type": "code",
   "execution_count": 19,
   "metadata": {},
   "outputs": [
    {
     "name": "stdout",
     "output_type": "stream",
     "text": [
      "All images preprocessed and stored\n"
     ]
    }
   ],
   "source": [
    "train_path = '../../train/images/input/'\n",
    "eval_path = '../../eval/images/input/'\n",
    "test_path = '../../test/images/input/'\n",
    "\n",
    "prepro_train_path = '../../preprocessed_train/images/input/'\n",
    "prepro_eval_path = '../../preprocessed_eval/images/input/'\n",
    "prepro_test_path = '../../preprocessed_test/images/input/'\n",
    "\n",
    "input_paths = [(train_path, eval_path, test_path), (prepro_train_path, prepro_eval_path, prepro_test_path)]\n",
    "i=0\n",
    "\n",
    "\n",
    "median_kernel = 5\n",
    "c = 15\n",
    "ksize = 75\n",
    "\n",
    "for path in input_paths[0]:\n",
    "    output_path = input_paths[1][i]\n",
    "    i = i+1\n",
    "    \n",
    "    for img_name in os.listdir(path):\n",
    "        if img_name == '.DS_Store':\n",
    "            continue\n",
    "        image_path = path + img_name\n",
    "        output_img_path = output_path + img_name\n",
    "        \n",
    "        ##Import image and characteristics:\n",
    "        img = cv2.imread(image_path)\n",
    "        \n",
    "        img_blur = cv2.medianBlur(img, median_kernel)\n",
    "        img_contrast = apply_contrast(img_blur, c)\n",
    "        img_unif = local_normalize_image(img_contrast, ksize)\n",
    "        \n",
    "        cv2.imwrite(output_img_path, img_unif)\n",
    "    \n",
    "\n",
    "print(\"All images preprocessed and stored\")  "
   ]
  },
  {
   "cell_type": "code",
   "execution_count": null,
   "metadata": {},
   "outputs": [],
   "source": []
  },
  {
   "cell_type": "code",
   "execution_count": null,
   "metadata": {},
   "outputs": [],
   "source": []
  },
  {
   "cell_type": "code",
   "execution_count": null,
   "metadata": {},
   "outputs": [],
   "source": []
  },
  {
   "cell_type": "code",
   "execution_count": null,
   "metadata": {},
   "outputs": [],
   "source": []
  }
 ],
 "metadata": {
  "kernelspec": {
   "display_name": "Python 3",
   "language": "python",
   "name": "python3"
  },
  "language_info": {
   "codemirror_mode": {
    "name": "ipython",
    "version": 3
   },
   "file_extension": ".py",
   "mimetype": "text/x-python",
   "name": "python",
   "nbconvert_exporter": "python",
   "pygments_lexer": "ipython3",
   "version": "3.6.9"
  }
 },
 "nbformat": 4,
 "nbformat_minor": 2
}
