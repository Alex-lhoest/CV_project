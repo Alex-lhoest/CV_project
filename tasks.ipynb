{
 "cells": [
  {
   "cell_type": "code",
   "execution_count": 1,
   "metadata": {},
   "outputs": [],
   "source": [
    "import numpy as np                     # Numerical algorithms on arrays\n",
    "import cv2                             # OpenCV\n",
    "from matplotlib import pyplot as plt   # Plot library\n",
    "import matplotlib.cm as cm             # Image color map \n",
    "import tools                           # A few helpers to plot multiple images\n",
    "from PIL import Image                  # For rescaling images"
   ]
  },
  {
   "cell_type": "code",
   "execution_count": 2,
   "metadata": {},
   "outputs": [],
   "source": [
    "# Load image in grayscale format\n",
    "road = cv2.imread('Images/Road.png', cv2.IMREAD_GRAYSCALE)\n",
    "building = cv2.imread('Images/Building.png', cv2.IMREAD_GRAYSCALE)\n",
    "\n",
    "road_color = cv2.imread('Images/Road.png', cv2.IMREAD_COLOR)\n",
    "building = cv2.imread('Images/Building.png', cv2.IMREAD_COLOR)"
   ]
  },
  {
   "cell_type": "code",
   "execution_count": null,
   "metadata": {},
   "outputs": [],
   "source": [
    "# Show images\n",
    "cv2.imshow('Color road displayed in grayscale', road)\n",
    "cv2.imshow('Color building displayed in grayscale', building)\n",
    "\n",
    "cv2.waitKey(0)\n",
    "\n",
    "cv2.destroyAllWindows()"
   ]
  },
  {
   "cell_type": "code",
   "execution_count": 7,
   "metadata": {},
   "outputs": [],
   "source": [
    "# rescaling road\n",
    "\n",
    "basewidth = 300\n",
    "road_img = Image.open('Images/Road.png')\n",
    "wpercent = (basewidth/float(road_img.size[0]))\n",
    "hsize = int((float(road_img.size[1])*float(wpercent)))\n",
    "resc_road = road_img.resize((basewidth,hsize), Image.ANTIALIAS)\n",
    "resc_road.save('rescale_road.png', quality = 95)\n"
   ]
  },
  {
   "cell_type": "code",
   "execution_count": null,
   "metadata": {},
   "outputs": [],
   "source": []
  }
 ],
 "metadata": {
  "kernelspec": {
   "display_name": "Python 3",
   "language": "python",
   "name": "python3"
  },
  "language_info": {
   "codemirror_mode": {
    "name": "ipython",
    "version": 3
   },
   "file_extension": ".py",
   "mimetype": "text/x-python",
   "name": "python",
   "nbconvert_exporter": "python",
   "pygments_lexer": "ipython3",
   "version": "3.6.9"
  }
 },
 "nbformat": 4,
 "nbformat_minor": 2
}
