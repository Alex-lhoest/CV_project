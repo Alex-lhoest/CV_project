{
 "cells": [
  {
   "cell_type": "code",
   "execution_count": 1,
   "metadata": {},
   "outputs": [],
   "source": [
    "import numpy as np                     # Numerical algorithms on arrays\n",
    "import cv2                             # OpenCV\n",
    "from matplotlib import pyplot as plt   # Plot library\n",
    "import matplotlib.cm as cm             # Image color map \n",
    "import tools                           # A few helpers to plot multiple images\n",
    "from PIL import Image                  # For rescaling images\n",
    "from ipywidgets import interact, fixed # Interact with images"
   ]
  },
  {
   "cell_type": "code",
   "execution_count": null,
   "metadata": {},
   "outputs": [],
   "source": [
    "# Load image in grayscale format\n",
    "road = cv2.imread('images/Road.png', cv2.IMREAD_GRAYSCALE)\n",
    "building = cv2.imread('images/Building.png', cv2.IMREAD_GRAYSCALE)\n",
    "\n",
    "road_color = cv2.imread('images/Road.png', cv2.IMREAD_COLOR)\n",
    "building_color = cv2.imread('images/Building.png', cv2.IMREAD_COLOR)"
   ]
  },
  {
   "cell_type": "code",
   "execution_count": null,
   "metadata": {},
   "outputs": [],
   "source": [
    "# Show images\n",
    "cv2.imshow('Color road displayed in grayscale', road)\n",
    "cv2.imshow('Color building displayed in grayscale', building)\n",
    "\n",
    "cv2.waitKey(0)\n",
    "\n",
    "cv2.destroyAllWindows()"
   ]
  },
  {
   "cell_type": "code",
   "execution_count": null,
   "metadata": {},
   "outputs": [],
   "source": [
    "# rescaling road\n",
    "\n",
    "basewidth = 100\n",
    "road_img = Image.open('Images/Road.png')\n",
    "wpercent = (basewidth/float(road_img.size[0]))\n",
    "hsize = int((float(road_img.size[1])*float(wpercent)))\n",
    "resc_road = road_img.resize((basewidth,hsize), Image.ANTIALIAS)\n",
    "resc_road.save('rescale_road.png', quality = 95)\n"
   ]
  },
  {
   "cell_type": "code",
   "execution_count": null,
   "metadata": {},
   "outputs": [],
   "source": [
    "#histogram\n",
    "\n",
    "import matplotlib.cm as cm\n",
    "\n",
    "gray_road = cv2.imread( 'Images/Road.png', cv2.IMREAD_GRAYSCALE)\n",
    "\n",
    "hist_np, bins = np.histogram( gray_road.ravel(),256,[0,256])\n",
    "\n",
    "hist_cv = cv2.calcHist( [gray_road],[0],None,[256],[0,256])\n",
    "\n",
    "# Plot an histogram with matplotlib\n",
    "%matplotlib inline\n",
    "plt.hist(gray_road.ravel(), bins=256, range=(0,255))\n",
    "plt.show()"
   ]
  },
  {
   "cell_type": "code",
   "execution_count": null,
   "metadata": {},
   "outputs": [],
   "source": [
    "img = cv2.imread( 'Images/road.png', cv2.IMREAD_GRAYSCALE)\n",
    "\n",
    "def update(omega=10, sigma_color=20, sigma_space=50):\n",
    "    img_bilat = cv2.bilateralFilter( img, omega, sigma_color, sigma_space)\n",
    "\n",
    "    tools.multiPlot( 1, 2, ( img, img_bilat), ( 'Original image', 'Bilateral filtering'),\n",
    "                       cmap_tuple=( cm.gray, cm.gray))\n",
    "\n",
    "interact(update, omega = [1, 5, 10, 20, 30] , sigma_color = (10, 250, 10), sigma_space=(10,250,10))"
   ]
  },
  {
   "cell_type": "code",
   "execution_count": null,
   "metadata": {},
   "outputs": [],
   "source": [
    "threshVal = 70\n",
    "img = cv2.imread( 'Images/road.png', cv2.IMREAD_GRAYSCALE)\n",
    "gray_road = cv2.bilateralFilter( img, 9, 80, 80)\n",
    "ret, thresh1 = cv2.threshold( gray_road, threshVal, 255, cv2.THRESH_BINARY)\n",
    "ret, thresh2 = cv2.threshold( gray_road, threshVal, 255, cv2.THRESH_BINARY_INV)\n",
    "ret, thresh3 = cv2.threshold( gray_road, threshVal, 255, cv2.THRESH_TRUNC)\n",
    "ret, thresh4 = cv2.threshold( gray_road, threshVal, 255, cv2.THRESH_TOZERO)\n",
    "#ret, thresh5 = cv2.threshold( gray_road, threshVal, 255, cv2.THRESH_TOZERO_INV)\n",
    "thresh5 = cv2.adaptiveThreshold(gray_road, 255,cv2.ADAPTIVE_THRESH_GAUSSIAN_C, cv2.THRESH_BINARY, 21, 3\n",
    "                               )\n",
    "\n",
    "tools.multiPlot( 2, 3, ( gray_road, thresh1, thresh2, thresh3, thresh4, thresh5),\n",
    "                       ( 'Original Image', 'THRESH_BINARY', 'THRESH_BINARY_INV',\n",
    "                        'THRESH_TRUNC', 'THRESH_TOZERO', 'adaptive'),\n",
    "                        cmap_tuple=( cm.gray, cm.gray, cm.gray, cm.gray, cm.gray, cm.gray))\n"
   ]
  },
  {
   "cell_type": "code",
   "execution_count": null,
   "metadata": {},
   "outputs": [],
   "source": [
    "# Canny\n",
    "\n",
    "#img = cv2.imread( 'Images/Road.png', cv2.IMREAD_GRAYSCALE)\n",
    "img = cv2.imread( 'Images/Building.png', cv2.IMREAD_GRAYSCALE)\n",
    "\n",
    "def update( lo_thresh=80, hi_thresh=180, sobel_size=3):\n",
    "    img_canny = cv2.Canny( img, lo_thresh, hi_thresh, apertureSize=sobel_size, L2gradient=True)\n",
    "\n",
    "    tools.multiPlot( 1, 2, ( img, img_canny),\n",
    "                     ( 'Original image', 'Canny'),\n",
    "                     cmap_tuple=( cm.gray, cm.gray))\n",
    "\n",
    "interact(update, lo_thresh = (10, 150, 10), hi_thresh = (120, 240, 10), sobel_size= [3, 5, 7])\n",
    "\n",
    "# best = lo_thresh = 90, hi_tresh = 150 , sobel size = 3"
   ]
  },
  {
   "cell_type": "code",
   "execution_count": null,
   "metadata": {},
   "outputs": [],
   "source": [
    "# HOUGH\n",
    "\n",
    "minLineLength = 1\n",
    "maxLineGap = 20\n",
    "sobel_size = 3\n",
    "img = cv2.imread( 'Images/rescale_road.png', cv2.IMREAD_GRAYSCALE)\n",
    "img_canny = cv2.Canny(img, 90, 150 , apertureSize=sobel_size, L2gradient=True)\n",
    "lines = cv2.HoughLinesP(img_canny,1,np.pi/180,100,minLineLength,maxLineGap)\n",
    "for x1,y1,x2,y2 in lines[0]:\n",
    "    cv2.line(img,(x1,y1),(x2,y2),(0,255,0),3)\n",
    "\n",
    "cv2.imwrite('houghlines5.png',img)\n",
    "\n",
    "tools.multiPlot( 1, 2, ( img, img_canny),\n",
    "                     ( 'Original image', 'Canny'),\n",
    "                     cmap_tuple=( cm.gray, cm.gray))\n"
   ]
  },
  {
   "cell_type": "code",
   "execution_count": null,
   "metadata": {},
   "outputs": [],
   "source": [
    "#Hough lines 2\n",
    "\n",
    "img = cv2.imread( 'Images/rescale_road.png', cv2.IMREAD_GRAYSCALE)\n",
    "edges = cv2.Canny(img, 90, 150 , apertureSize=7, L2gradient=True)\n",
    "\n",
    "lines = cv2.HoughLines(edges,1,np.pi/180,2)\n",
    "for rho,theta in lines[0]:\n",
    "    a = np.cos(theta)\n",
    "    b = np.sin(theta)\n",
    "    x0 = a*rho\n",
    "    y0 = b*rho\n",
    "    x1 = int(x0 + 1000*(-b))\n",
    "    y1 = int(y0 + 1000*(a))\n",
    "    x2 = int(x0 - 1000*(-b))\n",
    "    y2 = int(y0 - 1000*(a))\n",
    "\n",
    "    cv2.line(img,(x1,y1),(x2,y2),(255,0,0),3)\n",
    "\n",
    "cv2.imwrite('houghlines3.jpg',img)\n",
    "\n",
    "tools.multiPlot( 1, 2, ( img, edges),\n",
    "                     ( 'Original image', 'Canny'),\n",
    "                     cmap_tuple=( cm.gray, cm.gray))"
   ]
  },
  {
   "cell_type": "code",
   "execution_count": null,
   "metadata": {},
   "outputs": [],
   "source": []
  },
  {
   "cell_type": "code",
   "execution_count": null,
   "metadata": {},
   "outputs": [],
   "source": [
    "%matplotlib inline\n",
    "\n",
    "cameraman_threshold = gray_road > 150\n",
    "plt.imshow(cameraman_threshold, cmap=\"gray\")\n",
    "plt.show()"
   ]
  },
  {
   "cell_type": "code",
   "execution_count": null,
   "metadata": {},
   "outputs": [],
   "source": [
    "def update( lo_thresh=80, hi_thresh=180, sobel_size=3):\n",
    "    img_canny = cv2.Canny( thresh5, lo_thresh, hi_thresh, apertureSize=sobel_size, L2gradient=True)\n",
    "\n",
    "    tools.multiPlot( 1, 2, ( img, img_canny),\n",
    "                     ( 'Original image', 'Canny'),\n",
    "                     cmap_tuple=( cm.gray, cm.gray))\n",
    "\n",
    "interact(update, lo_thresh = (10, 150, 10), hi_thresh = (120, 240, 10), sobel_size= [3, 5, 7])"
   ]
  },
  {
   "cell_type": "code",
   "execution_count": null,
   "metadata": {},
   "outputs": [],
   "source": [
    "minLineLength = 1\n",
    "maxLineGap = 20\n",
    "sobel_size = 3\n",
    "img = cv2.imread( 'Images/rescale_road.png', cv2.IMREAD_GRAYSCALE)\n",
    "img_canny = cv2.Canny(thresh5, 90, 150 , apertureSize=sobel_size, L2gradient=True)\n",
    "\n",
    "lines = cv2.HoughLinesP(img_canny,1,np.pi/180,100,minLineLength,maxLineGap)\n",
    "for x1,y1,x2,y2 in lines[0]:\n",
    "    cv2.line(img,(x1,y1),(x2,y2),(0,255,0),10)\n",
    "\n",
    "cv2.imwrite('houghlines5.png',img)\n",
    "\n",
    "tools.multiPlot( 1, 2, ( img, img_canny),\n",
    "                     ( 'Original image', 'Canny'),\n",
    "                     cmap_tuple=( cm.gray, cm.gray))"
   ]
  },
  {
   "cell_type": "code",
   "execution_count": 17,
   "metadata": {},
   "outputs": [
    {
     "data": {
      "image/png": "[encoded data removed]",
      "text/plain": [
       "<Figure size 1440x720 with 1 Axes>"
      ]
     },
     "metadata": {},
     "output_type": "display_data"
    }
   ],
   "source": [
    "# prefiltrering and scaling \n",
    "\n",
    "#img = cv2.imread( 'Images/Pattern_inspection2.png', cv2.IMREAD_GRAYSCALE)\n",
    "#img = cv2.imread( 'Images/Building.png', cv2.IMREAD_GRAYSCALE)\n",
    "img = cv2.imread( 'Images/Road.png', cv2.IMREAD_GRAYSCALE)\n",
    "#img = cv2.imread( 'Images/1_HQ00020.png', cv2.IMREAD_GRAYSCALE)\n",
    "#img = cv2.imread( 'Images/image.000078.png', cv2.IMREAD_GRAYSCALE)\n",
    "\n",
    "iGausKernelSize = 11\n",
    "imgFilt = cv2.GaussianBlur( img, ( iGausKernelSize, iGausKernelSize), 0)\n",
    "\n",
    "iReducFactor = 2\n",
    "iStart = iReducFactor // 2\n",
    "imgReduc = imgFilt[iStart::iReducFactor, iStart::iReducFactor]\n",
    "   \n",
    "# compute the median of the single channel pixel intensities\n",
    "med = np.median( imgReduc)\n",
    " \n",
    "# apply automatic Canny edge detection using the computed median\n",
    "sigma = 0.3\n",
    "loThreshold = int( max( 0, (1.0 - sigma) * med))\n",
    "hiThreshold = int( min( 255, (1.0 + sigma) * med))\n",
    "\n",
    "edges = cv2.Canny( imgReduc, loThreshold, hiThreshold, apertureSize=3, L2gradient=False)\n",
    "\n",
    "# plot all the images\n",
    "tools.multiPlot( 1, 1, ( edges,),\n",
    "                       ( 'Edges',),\n",
    "                        cmap_tuple=( cm.gray,))"
   ]
  },
  {
   "cell_type": "code",
   "execution_count": 16,
   "metadata": {},
   "outputs": [
    {
     "ename": "TypeError",
     "evalue": "Layout of the output array img is incompatible with cv::Mat (step[ndims-1] != elemsize or step[1] != elemsize*nchannels)",
     "output_type": "error",
     "traceback": [
      "\u001b[0;31m---------------------------------------------------------------------------\u001b[0m",
      "\u001b[0;31mTypeError\u001b[0m                                 Traceback (most recent call last)",
      "\u001b[0;32m<ipython-input-16-01624cc33f47>\u001b[0m in \u001b[0;36m<module>\u001b[0;34m\u001b[0m\n\u001b[1;32m      6\u001b[0m \u001b[0;32mfor\u001b[0m \u001b[0ml\u001b[0m \u001b[0;32min\u001b[0m \u001b[0mlines\u001b[0m\u001b[0;34m:\u001b[0m\u001b[0;34m\u001b[0m\u001b[0;34m\u001b[0m\u001b[0m\n\u001b[1;32m      7\u001b[0m     \u001b[0;32mfor\u001b[0m \u001b[0mx1\u001b[0m\u001b[0;34m,\u001b[0m\u001b[0my1\u001b[0m\u001b[0;34m,\u001b[0m\u001b[0mx2\u001b[0m\u001b[0;34m,\u001b[0m\u001b[0my2\u001b[0m \u001b[0;32min\u001b[0m \u001b[0ml\u001b[0m\u001b[0;34m:\u001b[0m\u001b[0;34m\u001b[0m\u001b[0;34m\u001b[0m\u001b[0m\n\u001b[0;32m----> 8\u001b[0;31m         \u001b[0mcv2\u001b[0m\u001b[0;34m.\u001b[0m\u001b[0mline\u001b[0m\u001b[0;34m(\u001b[0m\u001b[0mimgReduc\u001b[0m\u001b[0;34m,\u001b[0m\u001b[0;34m(\u001b[0m\u001b[0mx1\u001b[0m\u001b[0;34m//\u001b[0m\u001b[0;36m2\u001b[0m\u001b[0;34m,\u001b[0m\u001b[0my1\u001b[0m\u001b[0;34m//\u001b[0m\u001b[0;36m2\u001b[0m\u001b[0;34m)\u001b[0m\u001b[0;34m,\u001b[0m\u001b[0;34m(\u001b[0m\u001b[0mx2\u001b[0m\u001b[0;34m//\u001b[0m\u001b[0;36m2\u001b[0m\u001b[0;34m,\u001b[0m\u001b[0my2\u001b[0m\u001b[0;34m//\u001b[0m\u001b[0;36m2\u001b[0m\u001b[0;34m)\u001b[0m\u001b[0;34m,\u001b[0m\u001b[0;34m(\u001b[0m\u001b[0;36m0\u001b[0m\u001b[0;34m,\u001b[0m\u001b[0;36m255\u001b[0m\u001b[0;34m,\u001b[0m\u001b[0;36m0\u001b[0m\u001b[0;34m)\u001b[0m\u001b[0;34m,\u001b[0m\u001b[0;36m3\u001b[0m\u001b[0;34m)\u001b[0m\u001b[0;34m\u001b[0m\u001b[0;34m\u001b[0m\u001b[0m\n\u001b[0m\u001b[1;32m      9\u001b[0m \u001b[0;34m\u001b[0m\u001b[0m\n\u001b[1;32m     10\u001b[0m \u001b[0mcv2\u001b[0m\u001b[0;34m.\u001b[0m\u001b[0mimwrite\u001b[0m\u001b[0;34m(\u001b[0m\u001b[0;34m'houghlines5.png'\u001b[0m\u001b[0;34m,\u001b[0m\u001b[0mimgReduc\u001b[0m\u001b[0;34m)\u001b[0m\u001b[0;34m\u001b[0m\u001b[0;34m\u001b[0m\u001b[0m\n",
      "\u001b[0;31mTypeError\u001b[0m: Layout of the output array img is incompatible with cv::Mat (step[ndims-1] != elemsize or step[1] != elemsize*nchannels)"
     ]
    }
   ],
   "source": [
    "#Hough \n",
    "\n",
    "minLineLength = 100\n",
    "maxLineGap = 10\n",
    "lines = cv2.HoughLinesP(edges,1,np.pi/180,100,np.array([]),minLineLength,maxLineGap)\n",
    "for l in lines:\n",
    "    for x1,y1,x2,y2 in l:\n",
    "        cv2.line(img,(x1,y1),(x2,y2),(0,255,0),3)\n",
    "\n",
    "cv2.imwrite('houghlines5.png',img)\n",
    "\n",
    "tools.multiPlot( 1, 2, ( img, edges),\n",
    "                     ( 'Original image', 'Canny'),\n",
    "                     cmap_tuple=( cm.gray, cm.gray))\n"
   ]
  },
  {
   "cell_type": "code",
   "execution_count": null,
   "metadata": {},
   "outputs": [],
   "source": []
  }
 ],
 "metadata": {
  "kernelspec": {
   "display_name": "Python 3",
   "language": "python",
   "name": "python3"
  },
  "language_info": {
   "codemirror_mode": {
    "name": "ipython",
    "version": 3
   },
   "file_extension": ".py",
   "mimetype": "text/x-python",
   "name": "python",
   "nbconvert_exporter": "python",
   "pygments_lexer": "ipython3",
   "version": "3.6.9"
  }
 },
 "nbformat": 4,
 "nbformat_minor": 2
}
